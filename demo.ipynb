{
 "cells": [
  {
   "cell_type": "markdown",
   "metadata": {},
   "source": [
    "# Demonstration of some python, julia, and notebook programing\n",
    "Scott Henderson\n",
    "Julia User Group Meeting 8/2015\n",
    " \n",
    "#### What is Jupyter?\n",
    "It is a web-notebook interface connected to an interactive coding terminal. Originally exclusively for Python, the language agnostic features have been broken out so it can be used with many other programing languages (R, Julia). The main idea is to have a 'computable document' where documentation, code, figures, are all in one place and can easily be modified by another person. https://jupyter.org/ "
   ]
  },
  {
   "cell_type": "markdown",
   "metadata": {},
   "source": [
    "import python packages (math and plotting methods)"
   ]
  },
  {
   "cell_type": "code",
   "execution_count": 1,
   "metadata": {
    "collapsed": true
   },
   "outputs": [],
   "source": [
    "import numpy as np\n",
    "import pandas as pd\n",
    "import matplotlib.pyplot as plt\n",
    "%matplotlib inline"
   ]
  },
  {
   "cell_type": "markdown",
   "metadata": {},
   "source": [
    "Run terminal (bash/csh commands):"
   ]
  },
  {
   "cell_type": "code",
   "execution_count": 4,
   "metadata": {
    "collapsed": false
   },
   "outputs": [
    {
     "name": "stdout",
     "output_type": "stream",
     "text": [
      "demo.ipynb  jupyterdemo.yml  README.md\r\n"
     ]
    }
   ],
   "source": [
    "!ls"
   ]
  },
  {
   "cell_type": "code",
   "execution_count": 5,
   "metadata": {
    "collapsed": false
   },
   "outputs": [
    {
     "name": "stdout",
     "output_type": "stream",
     "text": [
      "/home/txks/github/jupyterdemo\r\n"
     ]
    }
   ],
   "source": [
    "!pwd"
   ]
  },
  {
   "cell_type": "markdown",
   "metadata": {},
   "source": [
    "mix bash and python easily"
   ]
  },
  {
   "cell_type": "code",
   "execution_count": 16,
   "metadata": {
    "collapsed": false
   },
   "outputs": [
    {
     "name": "stdout",
     "output_type": "stream",
     "text": [
      "Desktop    github    projects  SeisSpace\t       user.env2015\r\n",
      "Documents  Landmark  run       update_cntlm_conf.bash  user.env.bash\r\n",
      "Downloads  local     scripts   user.env\t\t       user.env.csh.bak\r\n"
     ]
    }
   ],
   "source": [
    "myhome = '/home/txks'\n",
    "!ls {myhome}"
   ]
  },
  {
   "cell_type": "code",
   "execution_count": 22,
   "metadata": {
    "collapsed": false
   },
   "outputs": [
    {
     "data": {
      "text/plain": [
       "['user.env', 'user.env2015', 'user.env.bash', 'user.env.csh.bak']"
      ]
     },
     "execution_count": 22,
     "metadata": {},
     "output_type": "execute_result"
    }
   ],
   "source": [
    "files = !ls {myhome} #capture output as python list variable\n",
    "[x for x in files if x.startswith('user')] #operate on list with python"
   ]
  },
  {
   "cell_type": "markdown",
   "metadata": {},
   "source": [
    "Lots of special commands that aren't standard python:\n",
    "https://ipython.org/ipython-doc/dev/interactive/reference.html \n",
    "https://ipython.org/ipython-doc/3/interactive/magics.html (these start with % or %%)"
   ]
  },
  {
   "cell_type": "code",
   "execution_count": 28,
   "metadata": {
    "collapsed": false
   },
   "outputs": [
    {
     "name": "stdout",
     "output_type": "stream",
     "text": [
      "Desktop\n",
      "Documents\n",
      "Downloads\n",
      "github\n",
      "Landmark\n",
      "local\n",
      "projects\n",
      "run\n",
      "scripts\n",
      "SeisSpace\n",
      "update_cntlm_conf.bash\n",
      "user.env\n",
      "user.env2015\n",
      "user.env.bash\n",
      "user.env.csh.bak\n"
     ]
    }
   ],
   "source": [
    "myfiles = %sx ls {myhome}\n",
    "print(myfiles.n) #%sx formats as object instead of a list so muyfiles has attributes (e.g. myfiles.n)"
   ]
  },
  {
   "cell_type": "markdown",
   "metadata": {},
   "source": [
    "### Speeding up numerical python functions\n",
    "\n",
    "Example from here:\n",
    "http://numba.pydata.org/numba-doc/0.20.0/index.html\n",
    "\n",
    "First benchmark with standard python functions (calculating and plotting mandelbrot set)\n",
    "$$c = \\sqrt{a^2 + b^2}$$"
   ]
  },
  {
   "cell_type": "code",
   "execution_count": 39,
   "metadata": {
    "collapsed": true
   },
   "outputs": [],
   "source": [
    "# Standard functions\n",
    "def mandel(x, y, max_iters):\n",
    "    \"\"\"\n",
    "    Given the real and imaginary parts of a complex number,\n",
    "    determine if it is a candidate for membership in the Mandelbrot\n",
    "    set given a fixed number of iterations.\n",
    "    \"\"\"\n",
    "    c = complex(x,y)\n",
    "    z = 0j\n",
    "    for i in range(max_iters):\n",
    "        z = z*z + c\n",
    "        if z.real * z.real + z.imag * z.imag >= 4:\n",
    "            return 255 * i // max_iters\n",
    "\n",
    "    return 255\n",
    "\n",
    "def create_fractal(min_x, max_x, min_y, max_y, image, iters):\n",
    "    height = image.shape[0]\n",
    "    width = image.shape[1]\n",
    "\n",
    "    pixel_size_x = (max_x - min_x) / width\n",
    "    pixel_size_y = (max_y - min_y) / height\n",
    "    for x in range(width):\n",
    "        real = min_x + x * pixel_size_x\n",
    "        for y in range(height):\n",
    "            imag = min_y + y * pixel_size_y\n",
    "            color = mandel(real, imag, iters)\n",
    "            image[y, x] = color\n",
    "\n",
    "    return image"
   ]
  },
  {
   "cell_type": "code",
   "execution_count": 40,
   "metadata": {
    "collapsed": false
   },
   "outputs": [
    {
     "name": "stdout",
     "output_type": "stream",
     "text": [
      "1 loops, best of 3: 5.75 s per loop\n"
     ]
    }
   ],
   "source": [
    "%%timeit\n",
    "image = np.zeros((700, 1400), dtype=np.uint8)\n",
    "image = create_fractal(-2.0, 1.0, -1.0, 1.0, image, 20)"
   ]
  },
  {
   "cell_type": "markdown",
   "metadata": {},
   "source": [
    "Note that using %%timeit doesn't output variables, so need to re-run the code one to regenerate the image for plotting"
   ]
  },
  {
   "cell_type": "code",
   "execution_count": 30,
   "metadata": {
    "collapsed": false
   },
   "outputs": [
    {
     "data": {
      "image/png": "[encoded data removed]",
      "text/plain": [
       "<matplotlib.figure.Figure at 0x2b2e81009c50>"
      ]
     },
     "metadata": {},
     "output_type": "display_data"
    }
   ],
   "source": [
    "image = np.zeros((700, 1400), dtype=np.uint8)\n",
    "image = create_fractal(-2.0, 1.0, -1.0, 1.0, image, 20)\n",
    "plt.imshow(image)\n",
    "plt.gray()\n",
    "plt.show()"
   ]
  },
  {
   "cell_type": "markdown",
   "metadata": {},
   "source": [
    "## Optimized Versions (C-code)\n",
    "\n",
    "Note only difference is adding @jit 'decorator'"
   ]
  },
  {
   "cell_type": "code",
   "execution_count": 8,
   "metadata": {
    "collapsed": false
   },
   "outputs": [],
   "source": [
    "from numba import jit"
   ]
  },
  {
   "cell_type": "code",
   "execution_count": 36,
   "metadata": {
    "collapsed": true
   },
   "outputs": [],
   "source": [
    "@jit\n",
    "def mandel(x, y, max_iters):\n",
    "    \"\"\"\n",
    "    Given the real and imaginary parts of a complex number,\n",
    "    determine if it is a candidate for membership in the Mandelbrot\n",
    "    set given a fixed number of iterations.\n",
    "    \"\"\"\n",
    "    c = complex(x,y)\n",
    "    z = 0j\n",
    "    for i in range(max_iters):\n",
    "        z = z*z + c\n",
    "        if z.real * z.real + z.imag * z.imag >= 4:\n",
    "            return 255 * i // max_iters\n",
    "\n",
    "    return 255\n",
    "\n",
    "@jit(nopython=True)\n",
    "def create_fractal(min_x, max_x, min_y, max_y, image, iters):\n",
    "    height = image.shape[0]\n",
    "    width = image.shape[1]\n",
    "\n",
    "    pixel_size_x = (max_x - min_x) / width\n",
    "    pixel_size_y = (max_y - min_y) / height\n",
    "    for x in range(width):\n",
    "        real = min_x + x * pixel_size_x\n",
    "        for y in range(height):\n",
    "            imag = min_y + y * pixel_size_y\n",
    "            color = mandel(real, imag, iters)\n",
    "            image[y, x] = color\n",
    "\n",
    "    return image"
   ]
  },
  {
   "cell_type": "code",
   "execution_count": 38,
   "metadata": {
    "collapsed": false
   },
   "outputs": [
    {
     "name": "stdout",
     "output_type": "stream",
     "text": [
      "10 loops, best of 3: 48.8 ms per loop\n"
     ]
    }
   ],
   "source": [
    "%%timeit\n",
    "image = np.zeros((700, 1400), dtype=np.uint8)\n",
    "image = create_fractal(-2.0, 1.0, -1.0, 1.0, image, 20)"
   ]
  },
  {
   "cell_type": "code",
   "execution_count": 48,
   "metadata": {
    "collapsed": false
   },
   "outputs": [
    {
     "data": {
      "text/html": [
       "<img src=\"https://upload.wikimedia.org/wikipedia/commons/b/b1/Julia_set_%28ice%29.png\"/>"
      ],
      "text/plain": [
       "<IPython.core.display.Image object>"
      ]
     },
     "execution_count": 48,
     "metadata": {},
     "output_type": "execute_result"
    }
   ],
   "source": [
    "from IPython.display import Image\n",
    "Image(url='https://upload.wikimedia.org/wikipedia/commons/b/b1/Julia_set_%28ice%29.png')"
   ]
  },
  {
   "cell_type": "markdown",
   "metadata": {},
   "source": [
    "So what about running a julia command?\n",
    "\n",
    "Theoretically you can do that:\n",
    "https://github.com/JuliaLang/IJulia.jl \n",
    "\n",
    "But it's currently a bit messy and being worked on...\n",
    "http://stackoverflow.com/questions/24091373/best-way-to-run-julia-code-in-an-ipython-notebook-or-python-code-in-an-ijulia-n"
   ]
  },
  {
   "cell_type": "code",
   "execution_count": 50,
   "metadata": {
    "collapsed": false
   },
   "outputs": [
    {
     "name": "stderr",
     "output_type": "stream",
     "text": [
      "ERROR: Cell magic `%%julia` not found.\n"
     ]
    }
   ],
   "source": [
    "%%julia\n",
    "\n",
    "println(\"Hello from Julia!\\n\")\n",
    "[1:10]"
   ]
  },
  {
   "cell_type": "code",
   "execution_count": null,
   "metadata": {
    "collapsed": true
   },
   "outputs": [],
   "source": []
  }
 ],
 "metadata": {
  "kernelspec": {
   "display_name": "Python 3",
   "language": "python",
   "name": "python3"
  },
  "language_info": {
   "codemirror_mode": {
    "name": "ipython",
    "version": 3
   },
   "file_extension": ".py",
   "mimetype": "text/x-python",
   "name": "python",
   "nbconvert_exporter": "python",
   "pygments_lexer": "ipython3",
   "version": "3.4.3"
  }
 },
 "nbformat": 4,
 "nbformat_minor": 0
}
